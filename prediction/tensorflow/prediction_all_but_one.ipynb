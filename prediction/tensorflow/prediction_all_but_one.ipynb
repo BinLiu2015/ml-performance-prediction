{
 "cells": [
  {
   "cell_type": "code",
   "execution_count": 10,
   "metadata": {
    "collapsed": true
   },
   "outputs": [],
   "source": [
    "import tensorflow as tf\n",
    "import numpy as np\n",
    "import os\n",
    "from performance_prediction_model import Model\n",
    "from sklearn.externals import joblib\n",
    "import numpy as np\n",
    "import pandas as pd\n",
    "import dataprep\n",
    "import matplotlib.pyplot as plt\n",
    "import matplotlib"
   ]
  },
  {
   "cell_type": "code",
   "execution_count": 11,
   "metadata": {
    "collapsed": true
   },
   "outputs": [],
   "source": [
    "import prediction"
   ]
  },
  {
   "cell_type": "code",
   "execution_count": 48,
   "metadata": {
    "collapsed": true
   },
   "outputs": [],
   "source": [
    "predict = 'M60'\n",
    "\n",
    "model_name = 'only_%s' %predict\n",
    "\n",
    "\n",
    "model = 'no_%s' %predict\n",
    "path = '/Users/djustus/workspace/newcastle/deep-learning-performance-evaluation/src/models/data'"
   ]
  },
  {
   "cell_type": "code",
   "execution_count": 49,
   "metadata": {},
   "outputs": [],
   "source": [
    "scaler = joblib.load('models/%s/scaler_Conv.save'%model)\n",
    "df = pd.read_pickle('data/Data_convolution_%s.pkl' %model_name)\n",
    "tfmodel_file = 'models/%s/saved_model' %model"
   ]
  },
  {
   "cell_type": "code",
   "execution_count": 50,
   "metadata": {},
   "outputs": [
    {
     "data": {
      "text/html": [
       "<div>\n",
       "<style>\n",
       "    .dataframe thead tr:only-child th {\n",
       "        text-align: right;\n",
       "    }\n",
       "\n",
       "    .dataframe thead th {\n",
       "        text-align: left;\n",
       "    }\n",
       "\n",
       "    .dataframe tbody tr th {\n",
       "        vertical-align: top;\n",
       "    }\n",
       "</style>\n",
       "<table border=\"1\" class=\"dataframe\">\n",
       "  <thead>\n",
       "    <tr style=\"text-align: right;\">\n",
       "      <th></th>\n",
       "      <th>batchsize</th>\n",
       "      <th>channels_in</th>\n",
       "      <th>channels_out</th>\n",
       "      <th>gpu</th>\n",
       "      <th>kernelsize</th>\n",
       "      <th>matsize</th>\n",
       "      <th>padding</th>\n",
       "      <th>precision</th>\n",
       "      <th>strides</th>\n",
       "      <th>timeUsed_max</th>\n",
       "      <th>...</th>\n",
       "      <th>opt_SGD</th>\n",
       "      <th>act_None</th>\n",
       "      <th>act_relu</th>\n",
       "      <th>act_sigmoid</th>\n",
       "      <th>act_tanh</th>\n",
       "      <th>peak_performance</th>\n",
       "      <th>IO</th>\n",
       "      <th>bandwidth</th>\n",
       "      <th>cores</th>\n",
       "      <th>clock</th>\n",
       "    </tr>\n",
       "  </thead>\n",
       "  <tbody>\n",
       "    <tr>\n",
       "      <th>count</th>\n",
       "      <td>25000.000000</td>\n",
       "      <td>25000.000000</td>\n",
       "      <td>25000.000000</td>\n",
       "      <td>25000.00000</td>\n",
       "      <td>25000.000000</td>\n",
       "      <td>25000.000000</td>\n",
       "      <td>25000.000000</td>\n",
       "      <td>25000.0</td>\n",
       "      <td>25000.000000</td>\n",
       "      <td>25000.000000</td>\n",
       "      <td>...</td>\n",
       "      <td>25000.000000</td>\n",
       "      <td>25000.000000</td>\n",
       "      <td>25000.000000</td>\n",
       "      <td>25000.000000</td>\n",
       "      <td>25000.00000</td>\n",
       "      <td>25000.0</td>\n",
       "      <td>25000.00</td>\n",
       "      <td>25000.0</td>\n",
       "      <td>25000.0</td>\n",
       "      <td>25000.0</td>\n",
       "    </tr>\n",
       "    <tr>\n",
       "      <th>mean</th>\n",
       "      <td>15.030880</td>\n",
       "      <td>66.067840</td>\n",
       "      <td>66.046880</td>\n",
       "      <td>0.50000</td>\n",
       "      <td>3.996400</td>\n",
       "      <td>256.507440</td>\n",
       "      <td>0.495760</td>\n",
       "      <td>32.0</td>\n",
       "      <td>2.502080</td>\n",
       "      <td>18.050279</td>\n",
       "      <td>...</td>\n",
       "      <td>0.083000</td>\n",
       "      <td>0.247200</td>\n",
       "      <td>0.254560</td>\n",
       "      <td>0.249760</td>\n",
       "      <td>0.24848</td>\n",
       "      <td>7365.0</td>\n",
       "      <td>15.75</td>\n",
       "      <td>320.0</td>\n",
       "      <td>4096.0</td>\n",
       "      <td>1178.0</td>\n",
       "    </tr>\n",
       "    <tr>\n",
       "      <th>std</th>\n",
       "      <td>8.350822</td>\n",
       "      <td>320.842222</td>\n",
       "      <td>321.208345</td>\n",
       "      <td>0.50001</td>\n",
       "      <td>2.008041</td>\n",
       "      <td>147.749192</td>\n",
       "      <td>0.499992</td>\n",
       "      <td>0.0</td>\n",
       "      <td>1.115009</td>\n",
       "      <td>30.473844</td>\n",
       "      <td>...</td>\n",
       "      <td>0.275888</td>\n",
       "      <td>0.431393</td>\n",
       "      <td>0.435622</td>\n",
       "      <td>0.432883</td>\n",
       "      <td>0.43214</td>\n",
       "      <td>0.0</td>\n",
       "      <td>0.00</td>\n",
       "      <td>0.0</td>\n",
       "      <td>0.0</td>\n",
       "      <td>0.0</td>\n",
       "    </tr>\n",
       "    <tr>\n",
       "      <th>min</th>\n",
       "      <td>1.000000</td>\n",
       "      <td>1.000000</td>\n",
       "      <td>1.000000</td>\n",
       "      <td>0.00000</td>\n",
       "      <td>1.000000</td>\n",
       "      <td>1.000000</td>\n",
       "      <td>0.000000</td>\n",
       "      <td>32.0</td>\n",
       "      <td>1.000000</td>\n",
       "      <td>0.221877</td>\n",
       "      <td>...</td>\n",
       "      <td>0.000000</td>\n",
       "      <td>0.000000</td>\n",
       "      <td>0.000000</td>\n",
       "      <td>0.000000</td>\n",
       "      <td>0.00000</td>\n",
       "      <td>7365.0</td>\n",
       "      <td>15.75</td>\n",
       "      <td>320.0</td>\n",
       "      <td>4096.0</td>\n",
       "      <td>1178.0</td>\n",
       "    </tr>\n",
       "    <tr>\n",
       "      <th>25%</th>\n",
       "      <td>8.000000</td>\n",
       "      <td>10.000000</td>\n",
       "      <td>10.000000</td>\n",
       "      <td>0.00000</td>\n",
       "      <td>2.000000</td>\n",
       "      <td>129.000000</td>\n",
       "      <td>0.000000</td>\n",
       "      <td>32.0</td>\n",
       "      <td>2.000000</td>\n",
       "      <td>2.311845</td>\n",
       "      <td>...</td>\n",
       "      <td>0.000000</td>\n",
       "      <td>0.000000</td>\n",
       "      <td>0.000000</td>\n",
       "      <td>0.000000</td>\n",
       "      <td>0.00000</td>\n",
       "      <td>7365.0</td>\n",
       "      <td>15.75</td>\n",
       "      <td>320.0</td>\n",
       "      <td>4096.0</td>\n",
       "      <td>1178.0</td>\n",
       "    </tr>\n",
       "    <tr>\n",
       "      <th>50%</th>\n",
       "      <td>15.000000</td>\n",
       "      <td>19.000000</td>\n",
       "      <td>19.000000</td>\n",
       "      <td>0.50000</td>\n",
       "      <td>4.000000</td>\n",
       "      <td>256.000000</td>\n",
       "      <td>0.000000</td>\n",
       "      <td>32.0</td>\n",
       "      <td>2.000000</td>\n",
       "      <td>6.640968</td>\n",
       "      <td>...</td>\n",
       "      <td>0.000000</td>\n",
       "      <td>0.000000</td>\n",
       "      <td>0.000000</td>\n",
       "      <td>0.000000</td>\n",
       "      <td>0.00000</td>\n",
       "      <td>7365.0</td>\n",
       "      <td>15.75</td>\n",
       "      <td>320.0</td>\n",
       "      <td>4096.0</td>\n",
       "      <td>1178.0</td>\n",
       "    </tr>\n",
       "    <tr>\n",
       "      <th>75%</th>\n",
       "      <td>22.000000</td>\n",
       "      <td>38.000000</td>\n",
       "      <td>38.000000</td>\n",
       "      <td>1.00000</td>\n",
       "      <td>6.000000</td>\n",
       "      <td>384.000000</td>\n",
       "      <td>1.000000</td>\n",
       "      <td>32.0</td>\n",
       "      <td>3.000000</td>\n",
       "      <td>20.242764</td>\n",
       "      <td>...</td>\n",
       "      <td>0.000000</td>\n",
       "      <td>0.000000</td>\n",
       "      <td>1.000000</td>\n",
       "      <td>0.000000</td>\n",
       "      <td>0.00000</td>\n",
       "      <td>7365.0</td>\n",
       "      <td>15.75</td>\n",
       "      <td>320.0</td>\n",
       "      <td>4096.0</td>\n",
       "      <td>1178.0</td>\n",
       "    </tr>\n",
       "    <tr>\n",
       "      <th>max</th>\n",
       "      <td>29.000000</td>\n",
       "      <td>9743.000000</td>\n",
       "      <td>9839.000000</td>\n",
       "      <td>1.00000</td>\n",
       "      <td>7.000000</td>\n",
       "      <td>512.000000</td>\n",
       "      <td>1.000000</td>\n",
       "      <td>32.0</td>\n",
       "      <td>4.000000</td>\n",
       "      <td>442.482100</td>\n",
       "      <td>...</td>\n",
       "      <td>1.000000</td>\n",
       "      <td>1.000000</td>\n",
       "      <td>1.000000</td>\n",
       "      <td>1.000000</td>\n",
       "      <td>1.00000</td>\n",
       "      <td>7365.0</td>\n",
       "      <td>15.75</td>\n",
       "      <td>320.0</td>\n",
       "      <td>4096.0</td>\n",
       "      <td>1178.0</td>\n",
       "    </tr>\n",
       "  </tbody>\n",
       "</table>\n",
       "<p>8 rows × 36 columns</p>\n",
       "</div>"
      ],
      "text/plain": [
       "          batchsize   channels_in  channels_out          gpu    kernelsize  \\\n",
       "count  25000.000000  25000.000000  25000.000000  25000.00000  25000.000000   \n",
       "mean      15.030880     66.067840     66.046880      0.50000      3.996400   \n",
       "std        8.350822    320.842222    321.208345      0.50001      2.008041   \n",
       "min        1.000000      1.000000      1.000000      0.00000      1.000000   \n",
       "25%        8.000000     10.000000     10.000000      0.00000      2.000000   \n",
       "50%       15.000000     19.000000     19.000000      0.50000      4.000000   \n",
       "75%       22.000000     38.000000     38.000000      1.00000      6.000000   \n",
       "max       29.000000   9743.000000   9839.000000      1.00000      7.000000   \n",
       "\n",
       "            matsize       padding  precision       strides  timeUsed_max  \\\n",
       "count  25000.000000  25000.000000    25000.0  25000.000000  25000.000000   \n",
       "mean     256.507440      0.495760       32.0      2.502080     18.050279   \n",
       "std      147.749192      0.499992        0.0      1.115009     30.473844   \n",
       "min        1.000000      0.000000       32.0      1.000000      0.221877   \n",
       "25%      129.000000      0.000000       32.0      2.000000      2.311845   \n",
       "50%      256.000000      0.000000       32.0      2.000000      6.640968   \n",
       "75%      384.000000      1.000000       32.0      3.000000     20.242764   \n",
       "max      512.000000      1.000000       32.0      4.000000    442.482100   \n",
       "\n",
       "        ...          opt_SGD      act_None      act_relu   act_sigmoid  \\\n",
       "count   ...     25000.000000  25000.000000  25000.000000  25000.000000   \n",
       "mean    ...         0.083000      0.247200      0.254560      0.249760   \n",
       "std     ...         0.275888      0.431393      0.435622      0.432883   \n",
       "min     ...         0.000000      0.000000      0.000000      0.000000   \n",
       "25%     ...         0.000000      0.000000      0.000000      0.000000   \n",
       "50%     ...         0.000000      0.000000      0.000000      0.000000   \n",
       "75%     ...         0.000000      0.000000      1.000000      0.000000   \n",
       "max     ...         1.000000      1.000000      1.000000      1.000000   \n",
       "\n",
       "          act_tanh  peak_performance        IO  bandwidth    cores    clock  \n",
       "count  25000.00000           25000.0  25000.00    25000.0  25000.0  25000.0  \n",
       "mean       0.24848            7365.0     15.75      320.0   4096.0   1178.0  \n",
       "std        0.43214               0.0      0.00        0.0      0.0      0.0  \n",
       "min        0.00000            7365.0     15.75      320.0   4096.0   1178.0  \n",
       "25%        0.00000            7365.0     15.75      320.0   4096.0   1178.0  \n",
       "50%        0.00000            7365.0     15.75      320.0   4096.0   1178.0  \n",
       "75%        0.00000            7365.0     15.75      320.0   4096.0   1178.0  \n",
       "max        1.00000            7365.0     15.75      320.0   4096.0   1178.0  \n",
       "\n",
       "[8 rows x 36 columns]"
      ]
     },
     "execution_count": 50,
     "metadata": {},
     "output_type": "execute_result"
    }
   ],
   "source": [
    "df.describe()"
   ]
  },
  {
   "cell_type": "code",
   "execution_count": 51,
   "metadata": {
    "collapsed": true
   },
   "outputs": [],
   "source": [
    "data_cols_conv = ['batchsize','elements_matrix','elements_kernel','channels_in','channels_out','padding','strides','use_bias', \n",
    "                      'opt_SGD','opt_Adadelta','opt_Adagrad','opt_Momentum','opt_Adam','opt_RMSProp',\n",
    "                      'act_relu','act_tanh','act_sigmoid',\n",
    "#                       'ops','memory_weights','memory_in','memory_out',\n",
    "                      'bandwidth','cores','clock']\n",
    "split=[0,0,1]"
   ]
  },
  {
   "cell_type": "code",
   "execution_count": 52,
   "metadata": {},
   "outputs": [
    {
     "name": "stdout",
     "output_type": "stream",
     "text": [
      "Size of train dataset: 0 \n",
      "Size of test dataset: 0 \n",
      "Size of validation dataset: 25000\n"
     ]
    },
    {
     "name": "stderr",
     "output_type": "stream",
     "text": [
      "/Users/djustus/anaconda3/lib/python3.6/site-packages/sklearn/utils/validation.py:475: DataConversionWarning: Data with input dtype int64 was converted to float64 by StandardScaler.\n",
      "  warnings.warn(msg, DataConversionWarning)\n"
     ]
    }
   ],
   "source": [
    "data, time, train, test, validation = dataprep.data_preprocess_keep(df,data_cols_conv,split,scaler)"
   ]
  },
  {
   "cell_type": "code",
   "execution_count": 53,
   "metadata": {
    "scrolled": false
   },
   "outputs": [
    {
     "name": "stdout",
     "output_type": "stream",
     "text": [
      "INFO:tensorflow:Restoring parameters from models/no_M60/saved_model/variables/variables\n"
     ]
    },
    {
     "data": {
      "image/png": "[encoded data removed]",
      "text/plain": [
       "<matplotlib.figure.Figure at 0x1a22b04c50>"
      ]
     },
     "metadata": {},
     "output_type": "display_data"
    }
   ],
   "source": [
    "with tf.Session() as sess:\n",
    "    tf.saved_model.loader.load(sess, [\"serve\"], tfmodel_file)\n",
    "    graph = tf.get_default_graph()\n",
    "\n",
    "\n",
    "    run = sess.run(\n",
    "            'model_prediction:0',\n",
    "            feed_dict={'model_input:0': data['Validation'], \n",
    "                       'model_targets:0': time['Validation'],\n",
    "                       'model_istraining:0': False})\n",
    "RMS_validation_error=np.sqrt(np.mean((time['Validation']-run)**2))\n",
    "\n",
    "fig,ax = plt.subplots(1,1,figsize=[8,8])\n",
    "ax.plot(time['Validation'],run,'.')\n",
    "\n",
    "\n",
    "ax.get_xaxis().set_major_formatter(matplotlib.ticker.ScalarFormatter())\n",
    "ax.get_yaxis().set_major_formatter(matplotlib.ticker.ScalarFormatter())\n",
    "ax.xaxis.set_minor_formatter(plt.NullFormatter())\n",
    "ax.yaxis.set_minor_formatter(plt.NullFormatter())\n",
    "\n",
    "matplotlib.rc('xtick', labelsize=25) \n",
    "matplotlib.rc('ytick', labelsize=25) \n",
    "\n",
    "plt.xlabel('measured time (ms)',fontsize=25)\n",
    "plt.ylabel('predicted time (ms)',fontsize=25)\n",
    "\n",
    "\n",
    "axlim = max(plt.xlim()[1],plt.ylim()[1])\n",
    "\n",
    "\n",
    "#plt.axis('equal')\n",
    "ax.set_xlim(-axlim*.025,axlim*1.025)\n",
    "ax.set_ylim(-axlim*.025,axlim*1.025)\n",
    "\n",
    "plt.tight_layout()\n",
    "ax.ticklabel_format(useOffset=False)\n",
    "ax.plot([0,axlim],[0,axlim],2)\n",
    "#plt.title('RMS error = %.3f' %RMS_validation_error)\n",
    "\n",
    "plt.savefig('figures/prediction_%s_from_other.png' %predict, dpi=300)\n",
    "\n",
    "plt.show()"
   ]
  },
  {
   "cell_type": "code",
   "execution_count": 54,
   "metadata": {},
   "outputs": [
    {
     "data": {
      "text/plain": [
       "8.087959"
      ]
     },
     "execution_count": 54,
     "metadata": {},
     "output_type": "execute_result"
    }
   ],
   "source": [
    "RMS_validation_error"
   ]
  },
  {
   "cell_type": "code",
   "execution_count": null,
   "metadata": {
    "collapsed": true
   },
   "outputs": [],
   "source": []
  },
  {
   "cell_type": "code",
   "execution_count": null,
   "metadata": {
    "collapsed": true
   },
   "outputs": [],
   "source": []
  },
  {
   "cell_type": "code",
   "execution_count": null,
   "metadata": {
    "collapsed": true
   },
   "outputs": [],
   "source": []
  }
 ],
 "metadata": {
  "kernelspec": {
   "display_name": "Python 3",
   "language": "python",
   "name": "python3"
  },
  "language_info": {
   "codemirror_mode": {
    "name": "ipython",
    "version": 3
   },
   "file_extension": ".py",
   "mimetype": "text/x-python",
   "name": "python",
   "nbconvert_exporter": "python",
   "pygments_lexer": "ipython3",
   "version": "3.6.3"
  }
 },
 "nbformat": 4,
 "nbformat_minor": 2
}
