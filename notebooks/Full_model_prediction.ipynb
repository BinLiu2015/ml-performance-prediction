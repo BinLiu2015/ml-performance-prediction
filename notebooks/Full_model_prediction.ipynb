{
 "cells": [
  {
   "cell_type": "code",
   "execution_count": 1,
   "metadata": {
    "collapsed": true
   },
   "outputs": [],
   "source": [
    "import numpy as np\n",
    "import os\n",
    "import sys\n",
    "import matplotlib.pyplot as plt\n",
    "import matplotlib\n",
    "import importlib"
   ]
  },
  {
   "cell_type": "code",
   "execution_count": 2,
   "metadata": {
    "collapsed": true
   },
   "outputs": [],
   "source": [
    "# Root directory of the project\n",
    "ROOT_DIR = os.path.abspath(\"../\")\n",
    "sys.path.append(ROOT_DIR)  # To find local version of the library"
   ]
  },
  {
   "cell_type": "code",
   "execution_count": 3,
   "metadata": {},
   "outputs": [
    {
     "ename": "ModuleNotFoundError",
     "evalue": "No module named 'prediction'",
     "output_type": "error",
     "traceback": [
      "\u001b[0;31m---------------------------------------------------------------------------\u001b[0m",
      "\u001b[0;31mModuleNotFoundError\u001b[0m                       Traceback (most recent call last)",
      "\u001b[0;32m<ipython-input-3-42b87212b07d>\u001b[0m in \u001b[0;36m<module>\u001b[0;34m()\u001b[0m\n\u001b[0;32m----> 1\u001b[0;31m \u001b[0;32mfrom\u001b[0m \u001b[0mperformance_prediction\u001b[0m \u001b[0;32mimport\u001b[0m \u001b[0mmodel_architecture\u001b[0m\u001b[0;34m\u001b[0m\u001b[0m\n\u001b[0m\u001b[1;32m      2\u001b[0m \u001b[0;32mfrom\u001b[0m \u001b[0mperformance_prediction\u001b[0m\u001b[0;34m.\u001b[0m\u001b[0mmodel_architecture\u001b[0m \u001b[0;32mimport\u001b[0m \u001b[0mmodel\u001b[0m\u001b[0;34m\u001b[0m\u001b[0m\n",
      "\u001b[0;32m~/workspace/newcastle/ml-performance-prediction/performance_prediction/model_architecture.py\u001b[0m in \u001b[0;36m<module>\u001b[0;34m()\u001b[0m\n\u001b[1;32m      1\u001b[0m \u001b[0;32mimport\u001b[0m \u001b[0mjson\u001b[0m\u001b[0;34m\u001b[0m\u001b[0m\n\u001b[0;32m----> 2\u001b[0;31m \u001b[0;32mimport\u001b[0m \u001b[0mprediction\u001b[0m\u001b[0;34m\u001b[0m\u001b[0m\n\u001b[0m\u001b[1;32m      3\u001b[0m \u001b[0;32mfrom\u001b[0m \u001b[0msklearn\u001b[0m\u001b[0;34m.\u001b[0m\u001b[0mexternals\u001b[0m \u001b[0;32mimport\u001b[0m \u001b[0mjoblib\u001b[0m\u001b[0;34m\u001b[0m\u001b[0m\n\u001b[1;32m      4\u001b[0m \u001b[0;34m\u001b[0m\u001b[0m\n\u001b[1;32m      5\u001b[0m \u001b[0;34m\u001b[0m\u001b[0m\n",
      "\u001b[0;31mModuleNotFoundError\u001b[0m: No module named 'prediction'"
     ]
    }
   ],
   "source": [
    "from performance_prediction import model_architecture\n",
    "from performance_prediction.model_architecture import model"
   ]
  },
  {
   "cell_type": "code",
   "execution_count": null,
   "metadata": {
    "collapsed": true
   },
   "outputs": [],
   "source": [
    "# Select the model and GPU whose performance should be predicted\n",
    "model = 'VGG16'\n",
    "gpu = 'P100'"
   ]
  },
  {
   "cell_type": "code",
   "execution_count": null,
   "metadata": {
    "collapsed": true
   },
   "outputs": [],
   "source": [
    "# Set paths\n",
    "prediction_model = 'all'\n",
    "PREDICTION_PATH = os.path.join(ROOT_DIR, 'performance_prediction/models/%s/saved_model' %prediction_model)\n",
    "SCALER_PATH = os.path.join(ROOT_DIR, 'performance_prediction/models/%s/scaler_Conv.save' %prediction_model)\n",
    "MODEL_PATH = os.path.join(ROOT_DIR, 'performance_prediction/model_architecture/%s.json' %model)\n",
    "GPU_PATH = os.path.join(ROOT_DIR, 'performance_prediction/GPUs/%s.json' %gpu)"
   ]
  },
  {
   "cell_type": "code",
   "execution_count": null,
   "metadata": {
    "collapsed": true
   },
   "outputs": [],
   "source": [
    "VGG16 = model_architecture.import_model(MODEL_PATH)"
   ]
  },
  {
   "cell_type": "code",
   "execution_count": null,
   "metadata": {
    "collapsed": true
   },
   "outputs": [],
   "source": [
    "# Select optimizer ('None', 'SGD', 'Adam', ...)\n",
    "opt = 'SGD'"
   ]
  },
  {
   "cell_type": "code",
   "execution_count": null,
   "metadata": {},
   "outputs": [],
   "source": [
    "batchsize = 2**np.arange(0,6,1)\n",
    "t = np.zeros([16,6])\n",
    "time = np.zeros(6)\n",
    "\n",
    "for i in range(len(batchsize)):\n",
    "    time[i], l, t[:,i] = VGG16.predict(GPU_PATH,\n",
    "                                       optimizer = opt,\n",
    "                                       batchsize = batchsize[i],\n",
    "                                       model_file = PREDICTION_PATH,\n",
    "                                       scaler_file = SCALER_PATH)"
   ]
  },
  {
   "cell_type": "code",
   "execution_count": null,
   "metadata": {
    "collapsed": true
   },
   "outputs": [],
   "source": [
    "l_unique = l.copy()\n",
    "duplicates = [12,11,9,6]\n",
    "for d in duplicates:\n",
    "    print(l_unique[d])\n",
    "    l_unique.pop(d)\n",
    "    \n",
    "t_unique = np.delete(t,duplicates,0)"
   ]
  },
  {
   "cell_type": "code",
   "execution_count": null,
   "metadata": {
    "collapsed": true
   },
   "outputs": [],
   "source": [
    "fig,ax = plt.subplots(1,1,figsize=[8,8])\n",
    "plt.plot(batchsize,t_unique.transpose(),'o-')\n",
    "\n",
    "ax.get_xaxis().set_major_formatter(matplotlib.ticker.ScalarFormatter())\n",
    "ax.get_yaxis().set_major_formatter(matplotlib.ticker.ScalarFormatter())\n",
    "ax.xaxis.set_minor_formatter(plt.NullFormatter())\n",
    "ax.yaxis.set_minor_formatter(plt.NullFormatter())\n",
    "\n",
    "matplotlib.rc('xtick', labelsize=25) \n",
    "matplotlib.rc('ytick', labelsize=25) \n",
    "\n",
    "plt.xlabel('batch size',fontsize=25)\n",
    "plt.ylabel('predicted time (ms)',fontsize=25)\n",
    "\n",
    "plt.legend(l_unique,bbox_to_anchor=(1.04,1), loc=\"upper left\",fontsize=20)\n",
    "\n",
    "plt.tight_layout()\n",
    "\n",
    "plt.savefig('figures/VGG16_full_model_layers_%s_%s.png' %(model,opt), dpi=300)\n",
    "plt.show()"
   ]
  },
  {
   "cell_type": "code",
   "execution_count": null,
   "metadata": {
    "collapsed": true
   },
   "outputs": [],
   "source": []
  },
  {
   "cell_type": "code",
   "execution_count": null,
   "metadata": {
    "collapsed": true
   },
   "outputs": [],
   "source": []
  }
 ],
 "metadata": {
  "kernelspec": {
   "display_name": "Python 3",
   "language": "python",
   "name": "python3"
  },
  "language_info": {
   "codemirror_mode": {
    "name": "ipython",
    "version": 3
   },
   "file_extension": ".py",
   "mimetype": "text/x-python",
   "name": "python",
   "nbconvert_exporter": "python",
   "pygments_lexer": "ipython3",
   "version": "3.6.3"
  }
 },
 "nbformat": 4,
 "nbformat_minor": 2
}
